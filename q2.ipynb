{
 "cells": [
  {
   "cell_type": "code",
   "execution_count": 25,
   "metadata": {},
   "outputs": [],
   "source": [
    "import pandas as pd\n",
    "import numpy as np"
   ]
  },
  {
   "cell_type": "markdown",
   "metadata": {},
   "source": [
    "* Helper functions"
   ]
  },
  {
   "cell_type": "code",
   "execution_count": 26,
   "metadata": {},
   "outputs": [],
   "source": [
    "def returns(dataframe, _column):\n",
    "    _returns = []\n",
    "    _column_list = list(_column)\n",
    "    i = 0\n",
    "    while (i < len(_column)):\n",
    "        if (i == 11):\n",
    "            break\n",
    "        end = _column_list[i]\n",
    "        start = _column_list[i+1]\n",
    "        _returns.append((end/start)-1)\n",
    "        i += 1\n",
    "    _returns.append(0)\n",
    "    dataframe = dataframe.assign(returns = _returns)\n",
    "    return dataframe  "
   ]
  },
  {
   "cell_type": "markdown",
   "metadata": {},
   "source": [
    "* Import data & create dataframe with estimated returns"
   ]
  },
  {
   "cell_type": "code",
   "execution_count": 27,
   "metadata": {},
   "outputs": [],
   "source": [
    "ibm = pd.read_csv(r'C:\\Users\\rhys.murage\\Documents\\finance\\data\\q2\\IBM.csv',)\n",
    "sp = pd.read_excel(r'C:\\Users\\rhys.murage\\Documents\\finance\\data\\q2\\s_p_500.xlsx')\n",
    "ibm.Date = pd.to_datetime(ibm.Date)\n",
    "ibm = ibm.sort_values(by=['Date'], ascending=False).reset_index().drop(columns=['index'])\n",
    "_ibm = ibm.iloc[1:,:].reset_index().drop(columns=['index'])\n",
    "_sp = sp.iloc[1:,:].reset_index().drop(columns=['index'])\n",
    "\n",
    "_ibm = returns(_ibm, _ibm.Close)\n",
    "_sp = returns(_sp, _sp.Close)"
   ]
  },
  {
   "cell_type": "markdown",
   "metadata": {},
   "source": [
    "* Rename `returns` columns for ibm and sp and merge on dates"
   ]
  },
  {
   "cell_type": "code",
   "execution_count": 28,
   "metadata": {},
   "outputs": [
    {
     "data": {
      "text/html": [
       "<div>\n",
       "<style scoped>\n",
       "    .dataframe tbody tr th:only-of-type {\n",
       "        vertical-align: middle;\n",
       "    }\n",
       "\n",
       "    .dataframe tbody tr th {\n",
       "        vertical-align: top;\n",
       "    }\n",
       "\n",
       "    .dataframe thead th {\n",
       "        text-align: right;\n",
       "    }\n",
       "</style>\n",
       "<table border=\"1\" class=\"dataframe\">\n",
       "  <thead>\n",
       "    <tr style=\"text-align: right;\">\n",
       "      <th></th>\n",
       "      <th>index</th>\n",
       "      <th>Date</th>\n",
       "      <th>ibm_returns</th>\n",
       "      <th>sp_returns</th>\n",
       "    </tr>\n",
       "  </thead>\n",
       "  <tbody>\n",
       "    <tr>\n",
       "      <th>0</th>\n",
       "      <td>0</td>\n",
       "      <td>2022-05-01</td>\n",
       "      <td>0.041298</td>\n",
       "      <td>-0.002079</td>\n",
       "    </tr>\n",
       "    <tr>\n",
       "      <th>1</th>\n",
       "      <td>1</td>\n",
       "      <td>2022-04-01</td>\n",
       "      <td>0.016844</td>\n",
       "      <td>-0.087957</td>\n",
       "    </tr>\n",
       "    <tr>\n",
       "      <th>2</th>\n",
       "      <td>2</td>\n",
       "      <td>2022-03-01</td>\n",
       "      <td>0.061301</td>\n",
       "      <td>0.035773</td>\n",
       "    </tr>\n",
       "    <tr>\n",
       "      <th>3</th>\n",
       "      <td>3</td>\n",
       "      <td>2022-02-01</td>\n",
       "      <td>-0.082803</td>\n",
       "      <td>-0.031361</td>\n",
       "    </tr>\n",
       "    <tr>\n",
       "      <th>4</th>\n",
       "      <td>4</td>\n",
       "      <td>2022-01-01</td>\n",
       "      <td>-0.000673</td>\n",
       "      <td>-0.052585</td>\n",
       "    </tr>\n",
       "    <tr>\n",
       "      <th>5</th>\n",
       "      <td>5</td>\n",
       "      <td>2021-12-01</td>\n",
       "      <td>0.141418</td>\n",
       "      <td>0.043613</td>\n",
       "    </tr>\n",
       "    <tr>\n",
       "      <th>6</th>\n",
       "      <td>6</td>\n",
       "      <td>2021-11-01</td>\n",
       "      <td>-0.020891</td>\n",
       "      <td>-0.008334</td>\n",
       "    </tr>\n",
       "    <tr>\n",
       "      <th>7</th>\n",
       "      <td>7</td>\n",
       "      <td>2021-10-01</td>\n",
       "      <td>-0.099547</td>\n",
       "      <td>0.069144</td>\n",
       "    </tr>\n",
       "    <tr>\n",
       "      <th>8</th>\n",
       "      <td>8</td>\n",
       "      <td>2021-09-01</td>\n",
       "      <td>-0.010047</td>\n",
       "      <td>-0.047569</td>\n",
       "    </tr>\n",
       "    <tr>\n",
       "      <th>9</th>\n",
       "      <td>9</td>\n",
       "      <td>2021-08-01</td>\n",
       "      <td>-0.004398</td>\n",
       "      <td>0.028990</td>\n",
       "    </tr>\n",
       "    <tr>\n",
       "      <th>10</th>\n",
       "      <td>10</td>\n",
       "      <td>2021-07-01</td>\n",
       "      <td>-0.038406</td>\n",
       "      <td>0.022748</td>\n",
       "    </tr>\n",
       "    <tr>\n",
       "      <th>11</th>\n",
       "      <td>11</td>\n",
       "      <td>2021-06-01</td>\n",
       "      <td>0.000000</td>\n",
       "      <td>0.000000</td>\n",
       "    </tr>\n",
       "  </tbody>\n",
       "</table>\n",
       "</div>"
      ],
      "text/plain": [
       "    index       Date  ibm_returns  sp_returns\n",
       "0       0 2022-05-01     0.041298   -0.002079\n",
       "1       1 2022-04-01     0.016844   -0.087957\n",
       "2       2 2022-03-01     0.061301    0.035773\n",
       "3       3 2022-02-01    -0.082803   -0.031361\n",
       "4       4 2022-01-01    -0.000673   -0.052585\n",
       "5       5 2021-12-01     0.141418    0.043613\n",
       "6       6 2021-11-01    -0.020891   -0.008334\n",
       "7       7 2021-10-01    -0.099547    0.069144\n",
       "8       8 2021-09-01    -0.010047   -0.047569\n",
       "9       9 2021-08-01    -0.004398    0.028990\n",
       "10     10 2021-07-01    -0.038406    0.022748\n",
       "11     11 2021-06-01     0.000000    0.000000"
      ]
     },
     "execution_count": 28,
     "metadata": {},
     "output_type": "execute_result"
    }
   ],
   "source": [
    "_ibm = _ibm.rename(columns={\n",
    "    'returns':'ibm_returns'\n",
    "})\n",
    "_sp = _sp.rename(columns={\n",
    "    'returns':'sp_returns'\n",
    "})\n",
    "\n",
    "returns_df = _ibm[['Date','ibm_returns']].merge(\n",
    "    _sp[['Date','sp_returns']],\n",
    "    how='left',\n",
    "    left_on=['Date'],\n",
    "    right_on=['Date']\n",
    ").reset_index()\n",
    "\n",
    "returns_df"
   ]
  }
 ],
 "metadata": {
  "interpreter": {
   "hash": "860548fa5c1e70ef65ac8aca18e319f676afd9dbdda516084a26106a72dfe0e2"
  },
  "kernelspec": {
   "display_name": "Python 3.9.5 64-bit",
   "language": "python",
   "name": "python3"
  },
  "language_info": {
   "codemirror_mode": {
    "name": "ipython",
    "version": 3
   },
   "file_extension": ".py",
   "mimetype": "text/x-python",
   "name": "python",
   "nbconvert_exporter": "python",
   "pygments_lexer": "ipython3",
   "version": "3.9.5"
  },
  "orig_nbformat": 4
 },
 "nbformat": 4,
 "nbformat_minor": 2
}
