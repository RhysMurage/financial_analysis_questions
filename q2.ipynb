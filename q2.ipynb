{
 "cells": [
  {
   "cell_type": "code",
   "execution_count": null,
   "metadata": {},
   "outputs": [],
   "source": [
    "import pandas as pd\n",
    "import numpy as np"
   ]
  },
  {
   "cell_type": "markdown",
   "metadata": {},
   "source": [
    "* Helper functions"
   ]
  },
  {
   "cell_type": "code",
   "execution_count": null,
   "metadata": {},
   "outputs": [],
   "source": [
    "def returns(dataframe, _column):\n",
    "    _returns = []\n",
    "    _column_list = list(_column)\n",
    "    i = 0\n",
    "    while (i < len(_column)):\n",
    "        if (i == 11):\n",
    "            break\n",
    "        end = _column_list[i]\n",
    "        start = _column_list[i+1]\n",
    "        _returns.append((end/start)-1)\n",
    "        i += 1\n",
    "    _returns.append(0)\n",
    "    dataframe = dataframe.assign(returns = _returns)\n",
    "    return dataframe  "
   ]
  },
  {
   "cell_type": "markdown",
   "metadata": {},
   "source": [
    "* Import data & create dataframe with estimated returns"
   ]
  },
  {
   "cell_type": "code",
   "execution_count": null,
   "metadata": {},
   "outputs": [],
   "source": [
    "ibm = pd.read_csv(r'C:\\Users\\rhys.murage\\Documents\\finance\\data\\q2\\IBM.csv',)\n",
    "sp = pd.read_excel(r'C:\\Users\\rhys.murage\\Documents\\finance\\data\\q2\\s_p_500.xlsx')\n",
    "ibm.Date = pd.to_datetime(ibm.Date)\n",
    "ibm = ibm.sort_values(by=['Date'], ascending=False).reset_index().drop(columns=['index'])\n",
    "_ibm = ibm.iloc[1:,:].reset_index().drop(columns=['index'])\n",
    "_sp = sp.iloc[1:,:].reset_index().drop(columns=['index'])\n",
    "\n",
    "_ibm = returns(_ibm, _ibm.Close)\n",
    "_sp = returns(_sp, _sp.Close)"
   ]
  },
  {
   "cell_type": "markdown",
   "metadata": {},
   "source": [
    "* Rename returns columns for ibm and sp and merge on dates"
   ]
  },
  {
   "cell_type": "code",
   "execution_count": null,
   "metadata": {},
   "outputs": [],
   "source": [
    "_ibm = _ibm.rename(columns={\n",
    "    'returns':'ibm_returns'\n",
    "})\n",
    "_sp = _sp.rename(columns={\n",
    "    'returns':'sp_returns'\n",
    "})\n",
    "\n",
    "returns_df = _ibm[['Date','ibm_returns']].merge(\n",
    "    _sp[['Date','sp_returns']],\n",
    "    how='left',\n",
    "    left_on=['Date'],\n",
    "    right_on=['Date']\n",
    ").reset_index()\n",
    "\n",
    "returns_df"
   ]
  }
 ],
 "metadata": {
  "interpreter": {
   "hash": "860548fa5c1e70ef65ac8aca18e319f676afd9dbdda516084a26106a72dfe0e2"
  },
  "kernelspec": {
   "display_name": "Python 3.9.5 64-bit",
   "language": "python",
   "name": "python3"
  },
  "language_info": {
   "codemirror_mode": {
    "name": "ipython",
    "version": 3
   },
   "file_extension": ".py",
   "mimetype": "text/x-python",
   "name": "python",
   "nbconvert_exporter": "python",
   "pygments_lexer": "ipython3",
   "version": "3.9.5"
  },
  "orig_nbformat": 4
 },
 "nbformat": 4,
 "nbformat_minor": 2
}
