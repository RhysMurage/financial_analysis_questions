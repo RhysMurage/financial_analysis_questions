{
 "cells": [
  {
   "cell_type": "code",
   "execution_count": 1,
   "metadata": {},
   "outputs": [],
   "source": [
    "import pandas as pd\n",
    "import numpy as np\n",
    "import pyreadr"
   ]
  },
  {
   "cell_type": "markdown",
   "metadata": {},
   "source": [
    "**Load dataset**"
   ]
  },
  {
   "cell_type": "code",
   "execution_count": 2,
   "metadata": {},
   "outputs": [
    {
     "data": {
      "text/html": [
       "<div>\n",
       "<style scoped>\n",
       "    .dataframe tbody tr th:only-of-type {\n",
       "        vertical-align: middle;\n",
       "    }\n",
       "\n",
       "    .dataframe tbody tr th {\n",
       "        vertical-align: top;\n",
       "    }\n",
       "\n",
       "    .dataframe thead th {\n",
       "        text-align: right;\n",
       "    }\n",
       "</style>\n",
       "<table border=\"1\" class=\"dataframe\">\n",
       "  <thead>\n",
       "    <tr style=\"text-align: right;\">\n",
       "      <th></th>\n",
       "      <th>SYMBOL</th>\n",
       "      <th>NAME</th>\n",
       "      <th>MARKETCAP</th>\n",
       "      <th>EXCHANGE</th>\n",
       "    </tr>\n",
       "  </thead>\n",
       "  <tbody>\n",
       "    <tr>\n",
       "      <th>0</th>\n",
       "      <td>A</td>\n",
       "      <td>Agilent Technologies, Inc.</td>\n",
       "      <td>12852.3</td>\n",
       "      <td>NYSE</td>\n",
       "    </tr>\n",
       "    <tr>\n",
       "      <th>1</th>\n",
       "      <td>AA</td>\n",
       "      <td>Alcoa Inc.</td>\n",
       "      <td>28234.5</td>\n",
       "      <td>NYSE</td>\n",
       "    </tr>\n",
       "    <tr>\n",
       "      <th>2</th>\n",
       "      <td>AA-P</td>\n",
       "      <td>Alcoa Inc.</td>\n",
       "      <td>43.6</td>\n",
       "      <td>AMEX</td>\n",
       "    </tr>\n",
       "    <tr>\n",
       "      <th>3</th>\n",
       "      <td>AAC</td>\n",
       "      <td>Ableauctions.Com Inc</td>\n",
       "      <td>4.3</td>\n",
       "      <td>AMEX</td>\n",
       "    </tr>\n",
       "    <tr>\n",
       "      <th>4</th>\n",
       "      <td>AAI</td>\n",
       "      <td>AirTran Holdings, Inc.</td>\n",
       "      <td>156.9</td>\n",
       "      <td>NYSE</td>\n",
       "    </tr>\n",
       "    <tr>\n",
       "      <th>...</th>\n",
       "      <td>...</td>\n",
       "      <td>...</td>\n",
       "      <td>...</td>\n",
       "      <td>...</td>\n",
       "    </tr>\n",
       "    <tr>\n",
       "      <th>4935</th>\n",
       "      <td>ZZF</td>\n",
       "      <td>SM Listed Test 2</td>\n",
       "      <td>NaN</td>\n",
       "      <td>NYSE</td>\n",
       "    </tr>\n",
       "    <tr>\n",
       "      <th>4936</th>\n",
       "      <td>ZZG</td>\n",
       "      <td>SM Listed Test 2</td>\n",
       "      <td>NaN</td>\n",
       "      <td>NYSE</td>\n",
       "    </tr>\n",
       "    <tr>\n",
       "      <th>4937</th>\n",
       "      <td>ZZH</td>\n",
       "      <td>SM Listed Test 2</td>\n",
       "      <td>NaN</td>\n",
       "      <td>NYSE</td>\n",
       "    </tr>\n",
       "    <tr>\n",
       "      <th>4938</th>\n",
       "      <td>ZZI</td>\n",
       "      <td>SM Listed Test 2</td>\n",
       "      <td>NaN</td>\n",
       "      <td>NYSE</td>\n",
       "    </tr>\n",
       "    <tr>\n",
       "      <th>4939</th>\n",
       "      <td>ZZJ</td>\n",
       "      <td>SM Listed Test 2</td>\n",
       "      <td>NaN</td>\n",
       "      <td>NYSE</td>\n",
       "    </tr>\n",
       "  </tbody>\n",
       "</table>\n",
       "<p>4940 rows × 4 columns</p>\n",
       "</div>"
      ],
      "text/plain": [
       "     SYMBOL                        NAME  MARKETCAP EXCHANGE\n",
       "0         A  Agilent Technologies, Inc.    12852.3     NYSE\n",
       "1        AA                  Alcoa Inc.    28234.5     NYSE\n",
       "2      AA-P                  Alcoa Inc.       43.6     AMEX\n",
       "3       AAC        Ableauctions.Com Inc        4.3     AMEX\n",
       "4       AAI      AirTran Holdings, Inc.      156.9     NYSE\n",
       "...     ...                         ...        ...      ...\n",
       "4935    ZZF            SM Listed Test 2        NaN     NYSE\n",
       "4936    ZZG            SM Listed Test 2        NaN     NYSE\n",
       "4937    ZZH            SM Listed Test 2        NaN     NYSE\n",
       "4938    ZZI            SM Listed Test 2        NaN     NYSE\n",
       "4939    ZZJ            SM Listed Test 2        NaN     NYSE\n",
       "\n",
       "[4940 rows x 4 columns]"
      ]
     },
     "execution_count": 2,
     "metadata": {},
     "output_type": "execute_result"
    }
   ],
   "source": [
    "url = \"./data/q1/marketCap.RData\"\n",
    "\n",
    "result = pyreadr.read_r(url)\n",
    "df = result['.x']\n",
    "df"
   ]
  },
  {
   "cell_type": "markdown",
   "metadata": {},
   "source": [
    "**pickle dataset**"
   ]
  },
  {
   "cell_type": "code",
   "execution_count": 3,
   "metadata": {},
   "outputs": [],
   "source": [
    "df.to_pickle('pickled')"
   ]
  }
 ],
 "metadata": {
  "interpreter": {
   "hash": "e7caf5565beea82afba073ac31ce0e97f5a567c80e67f31400eb38d4bca5cfbd"
  },
  "kernelspec": {
   "display_name": "Python 3.9.5 64-bit",
   "language": "python",
   "name": "python3"
  },
  "language_info": {
   "codemirror_mode": {
    "name": "ipython",
    "version": 3
   },
   "file_extension": ".py",
   "mimetype": "text/x-python",
   "name": "python",
   "nbconvert_exporter": "python",
   "pygments_lexer": "ipython3",
   "version": "3.9.5"
  },
  "orig_nbformat": 4
 },
 "nbformat": 4,
 "nbformat_minor": 2
}
